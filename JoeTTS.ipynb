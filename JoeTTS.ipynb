{
  "nbformat": 4,
  "nbformat_minor": 0,
  "metadata": {
    "colab": {
      "provenance": [],
      "gpuType": "A100",
      "mount_file_id": "1SOURlTtOs94AoJFF1EsPkHtqnhR9YPWN",
      "authorship_tag": "ABX9TyNt4a3ToSEX5k7viM5vx7ux",
      "include_colab_link": true
    },
    "kernelspec": {
      "name": "python3",
      "display_name": "Python 3"
    },
    "language_info": {
      "name": "python"
    },
    "accelerator": "GPU"
  },
  "cells": [
    {
      "cell_type": "markdown",
      "metadata": {
        "id": "view-in-github",
        "colab_type": "text"
      },
      "source": [
        "<a href=\"https://colab.research.google.com/github/vishnubharadwaj1234/JoeTTS/blob/main/JoeTTS.ipynb\" target=\"_parent\"><img src=\"https://colab.research.google.com/assets/colab-badge.svg\" alt=\"Open In Colab\"/></a>"
      ]
    },
    {
      "cell_type": "code",
      "source": [
        "!pip install -U pip\n",
        "!pip install TTS"
      ],
      "metadata": {
        "id": "4x7rNmCC1ffc"
      },
      "execution_count": null,
      "outputs": []
    },
    {
      "cell_type": "code",
      "source": [
        "from google.colab import drive\n",
        "drive.mount('/content/gdrive')"
      ],
      "metadata": {
        "id": "g26NDyhl2EAZ"
      },
      "execution_count": null,
      "outputs": []
    },
    {
      "cell_type": "code",
      "execution_count": null,
      "metadata": {
        "id": "chE-kzp60wM7"
      },
      "outputs": [],
      "source": [
        "import os\n",
        "\n",
        "from trainer import Trainer, TrainerArgs\n",
        "\n",
        "from TTS.tts.configs.shared_configs import BaseDatasetConfig, CharactersConfig\n",
        "from TTS.tts.configs.vits_config import VitsConfig\n",
        "from TTS.tts.datasets import load_tts_samples\n",
        "from TTS.tts.models.vits import Vits, VitsArgs, VitsAudioConfig\n",
        "from TTS.tts.utils.speakers import SpeakerManager\n",
        "from TTS.tts.utils.text.tokenizer import TTSTokenizer\n",
        "from TTS.utils.audio import AudioProcessor"
      ]
    },
    {
      "cell_type": "code",
      "source": [
        "output_path = \"/content/gdrive/MyDrive/JoeTTS\"\n",
        "\n",
        "\n",
        "dataset_config = BaseDatasetConfig(\n",
        "    formatter=\"ljspeech\", meta_file_train=\"transcript.txt\", path=os.path.join(output_path, \"MyTTSDataset/\")\n",
        ")"
      ],
      "metadata": {
        "id": "EPDcObZw1WFO"
      },
      "execution_count": null,
      "outputs": []
    },
    {
      "cell_type": "code",
      "source": [
        "audio_config = VitsAudioConfig(\n",
        "    sample_rate=44100, win_length=1024, hop_length=256, num_mels=80, mel_fmin=0, mel_fmax=None\n",
        ")"
      ],
      "metadata": {
        "id": "7-vJgmTl3EOF"
      },
      "execution_count": null,
      "outputs": []
    },
    {
      "cell_type": "code",
      "source": [
        "character_config = CharactersConfig(\n",
        "    characters_class= \"TTS.tts.models.vits.VitsCharacters\",\n",
        "    characters= \"ABCDEFGHIJKLMNOPQRSTUVWXYZabcdefghijklmnopqrstuvwxyz1234567890\",\n",
        "    punctuations=\" ,.-—':()\",\n",
        "    pad= \"<PAD>\",\n",
        "    eos= \"<EOS>\",\n",
        "    bos= \"<BOS>\",\n",
        "    blank= \"<BLNK>\",\n",
        ")"
      ],
      "metadata": {
        "id": "xidovyuH2Swm"
      },
      "execution_count": null,
      "outputs": []
    },
    {
      "cell_type": "code",
      "source": [
        "config = VitsConfig(\n",
        "    audio=audio_config,\n",
        "    characters=character_config,\n",
        "    run_name=\"vits_vctk\",\n",
        "    batch_size=16,\n",
        "    eval_batch_size=4,\n",
        "    num_loader_workers=4,\n",
        "    num_eval_loader_workers=4,\n",
        "    run_eval=True,\n",
        "    test_delay_epochs=0,\n",
        "    epochs=200,\n",
        "    text_cleaner=\"basic_cleaners\",\n",
        "    use_phonemes=False,\n",
        "    phoneme_language=\"en-us\",\n",
        "    phoneme_cache_path=os.path.join(output_path, \"phoneme_cache\"),\n",
        "    compute_input_seq_cache=True,\n",
        "    print_step=25,\n",
        "    print_eval=False,\n",
        "    save_best_after=1000,\n",
        "    save_checkpoints=True,\n",
        "    save_all_best=True,\n",
        "    mixed_precision=True,\n",
        "    max_text_len=250,  # change this if you have a larger VRAM than 16GB\n",
        "    output_path=output_path,\n",
        "    datasets=[dataset_config],\n",
        "    cudnn_benchmark=False,\n",
        "    test_sentences=[\n",
        "        [\"Hello world, my name is Joe text to speech.\"],\n",
        "        [\"Space, the final frontier.\"],\n",
        "        [\"These are the voyages of the star ship enterprise.\"],\n",
        "        [\"Its continuing mission, to explore strange new worlds.\"],\n",
        "        [\"To seek out new life and new civilizations.\"],\n",
        "        [\"To boldly go where no man has gone before.\"]\n",
        "    ]\n",
        ")"
      ],
      "metadata": {
        "id": "2rgzSMRoLbv_"
      },
      "execution_count": null,
      "outputs": []
    },
    {
      "cell_type": "code",
      "source": [
        "# Audio processor is used for feature extraction and audio I/O.\n",
        "# It mainly serves to the dataloader and the training loggers.\n",
        "ap = AudioProcessor.init_from_config(config)\n",
        "\n",
        "# INITIALIZE THE TOKENIZER\n",
        "# Tokenizer is used to convert text to sequences of token IDs.\n",
        "# config is updated with the default characters if not defined in the config.\n",
        "tokenizer, config = TTSTokenizer.init_from_config(config)"
      ],
      "metadata": {
        "id": "cNtq4ZfYMTOD"
      },
      "execution_count": null,
      "outputs": []
    },
    {
      "cell_type": "code",
      "source": [
        "def formatter(root_path, manifest_file, **kwargs):  # pylint: disable=unused-argument\n",
        "    \"\"\"Assumes each line as ```<filename>|<transcription>```\n",
        "    \"\"\"\n",
        "    txt_file = os.path.join(root_path, manifest_file)\n",
        "    items = []\n",
        "    speaker_name = \"my_speaker\"\n",
        "    with open(txt_file, \"r\", encoding=\"utf-8-sig\") as ttf:\n",
        "        for line in ttf:\n",
        "            cols = line.split(\"|\")\n",
        "            print(cols[0])\n",
        "            wav_file = f\"/content/gdrive/MyDrive/JoeTTS/MyTTSDataset/wavs/{cols[0]}.wav\"\n",
        "            text = cols[1]\n",
        "            # print(text)\n",
        "            items.append({\"text\":text, \"audio_file\":wav_file, \"speaker_name\":speaker_name, \"root_path\": root_path})\n",
        "    return items\n"
      ],
      "metadata": {
        "id": "FQIxEs8pMy5_"
      },
      "execution_count": null,
      "outputs": []
    },
    {
      "cell_type": "code",
      "source": [
        "train_samples, eval_samples = load_tts_samples(\n",
        "dataset_config,\n",
        "eval_split=True,\n",
        "formatter=formatter)"
      ],
      "metadata": {
        "id": "L3gxSJdEM2Qs"
      },
      "execution_count": null,
      "outputs": []
    },
    {
      "cell_type": "code",
      "source": [
        "# init model\n",
        "model = Vits(config, ap, tokenizer, speaker_manager=None)\n",
        "\n",
        "# init the trainer and 🚀\n",
        "trainer = Trainer(\n",
        "    TrainerArgs(),\n",
        "    config,\n",
        "    output_path,\n",
        "    model=model,\n",
        "    train_samples=train_samples,\n",
        "    eval_samples=eval_samples,\n",
        ")"
      ],
      "metadata": {
        "id": "1a9YNln2NDPr"
      },
      "execution_count": null,
      "outputs": []
    },
    {
      "cell_type": "code",
      "source": [
        "trainer.fit()"
      ],
      "metadata": {
        "id": "r3u4uYYRy_u4"
      },
      "execution_count": null,
      "outputs": []
    },
    {
      "cell_type": "code",
      "source": [
        "import torch\n",
        "from TTS.api import TTS"
      ],
      "metadata": {
        "id": "kJPM_Nx8G-Up"
      },
      "execution_count": null,
      "outputs": []
    },
    {
      "cell_type": "code",
      "source": [
        "# Import necessary modules\n",
        "from TTS.utils.synthesizer import Synthesizer\n",
        "\n",
        "# Define the paths to your model and configuration files\n",
        "model_path = \"/content/gdrive/MyDrive/JoeTTS/vits_vctk-May-20-2024_01+50AM-0000000/best_model.pth\"\n",
        "config_path = \"/content/gdrive/MyDrive/JoeTTS/vits_vctk-May-20-2024_01+50AM-0000000/config.json\"\n",
        "\n",
        "# Create a synthesizer object with the model and configuration files\n",
        "synthesizer = Synthesizer(model_path, config_path)\n",
        "\n",
        "# Define the text to be synthesized\n",
        "text = \"Space, the final frontier. These are the voyages of the star ship enterprise. Its continuing mission, to explore strange new worlds. To seek out new life and new civilizations. To boldly go where no man has gone before.\"\n",
        "\n",
        "# Synthesize speech\n",
        "output_wav = synthesizer.tts(text)\n",
        "\n",
        "# Save the output to a file\n",
        "synthesizer.save_wav(output_wav, \"output.wav\")"
      ],
      "metadata": {
        "id": "RShBueaTHv2W"
      },
      "execution_count": null,
      "outputs": []
    },
    {
      "cell_type": "code",
      "source": [],
      "metadata": {
        "id": "IHmnNrGyIw6o"
      },
      "execution_count": null,
      "outputs": []
    }
  ]
}